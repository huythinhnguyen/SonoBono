{
 "cells": [
  {
   "cell_type": "code",
   "execution_count": 1,
   "id": "8ae02564",
   "metadata": {},
   "outputs": [],
   "source": [
    "import os\n",
    "from matplotlib import pyplot as plt\n",
    "\n",
    "path_parent = os.path.dirname(os.getcwd())\n",
    "os.chdir(path_parent)\n",
    "%matplotlib inline\n",
    "\n",
    "import tensorflow as tf\n",
    "from bat_snake_env import BatSnake_base\n",
    "import numpy as np\n",
    "\n",
    "from tf_agents.agents.dqn import dqn_agent\n",
    "\n",
    "from tf_agents.environments import tf_py_environment\n",
    "\n",
    "from tf_agents.policies import random_tf_policy\n",
    "from tf_agents.networks import sequential\n",
    "from tf_agents.replay_buffers import tf_uniform_replay_buffer\n",
    "from tf_agents.trajectories import trajectory\n",
    "from tf_agents.specs import tensor_spec\n",
    "from tf_agents.utils import common\n",
    "\n",
    "from tensorflow.keras.layers import Dense\n",
    "from tensorflow.keras.initializers import RandomUniform, Constant, VarianceScaling\n"
   ]
  },
  {
   "cell_type": "code",
   "execution_count": 2,
   "id": "d838e783",
   "metadata": {},
   "outputs": [],
   "source": [
    "py_env = BatSnake_base(preset=11, time_limit=100, max_level=0)\n",
    "env = tf_py_environment.TFPyEnvironment(py_env)"
   ]
  },
  {
   "cell_type": "code",
   "execution_count": 3,
   "id": "360674d0",
   "metadata": {},
   "outputs": [],
   "source": [
    "fc_layer_params = (128, 128, 128, 64)\n",
    "action_tensor_spec = tensor_spec.from_spec(py_env.action_spec())\n",
    "num_actions = action_tensor_spec.maximum - action_tensor_spec.minimum + 1\n",
    "\n",
    "def dense_layer(num_units):\n",
    "    dense_net  = tf.keras.layers.Dense(\n",
    "        num_units,\n",
    "        activation=tf.keras.activations.relu,\n",
    "        kernel_initializer=VarianceScaling(\n",
    "            scale=2.0, mode='fan_in', distribution='truncated_normal'))\n",
    "    return dense_net"
   ]
  },
  {
   "cell_type": "code",
   "execution_count": 4,
   "id": "de5fd544",
   "metadata": {},
   "outputs": [],
   "source": [
    "dense_net = [dense_layer(num_units) for num_units in fc_layer_params]\n",
    "q_values_layer = Dense(\n",
    "    num_actions,\n",
    "    kernel_initializer=RandomUniform(\n",
    "        minval=-0.05, maxval=0.05),\n",
    "    bias_initializer=Constant(-0.2))\n",
    "q_net = sequential.Sequential(dense_net + [q_values_layer])"
   ]
  },
  {
   "cell_type": "code",
   "execution_count": 5,
   "id": "40e164f5",
   "metadata": {},
   "outputs": [],
   "source": [
    "num_iterations = 2_500_000\n",
    "\n",
    "initial_collection_steps = 1000\n",
    "collect_steps_per_iteration = 1\n",
    "replay_buffer_max_length = 500_000\n",
    "\n",
    "batch_size = 1024\n",
    "learning_rate = 1e-4\n",
    "log_interval = 5000\n",
    "\n",
    "num_eval_episodes = 10\n",
    "eval_interval = 10000\n",
    "\n",
    "epsilon = 0.8\n"
   ]
  },
  {
   "cell_type": "code",
   "execution_count": 6,
   "id": "b140c85d",
   "metadata": {},
   "outputs": [],
   "source": [
    "eval_py_env = BatSnake_base(preset=11, time_limit=100, max_level=0)\n",
    "eval_env = tf_py_environment.TFPyEnvironment(eval_py_env)"
   ]
  },
  {
   "cell_type": "code",
   "execution_count": 7,
   "id": "a6d68cc4",
   "metadata": {
    "scrolled": true
   },
   "outputs": [],
   "source": [
    "optimizer = tf.keras.optimizers.Adam(learning_rate=learning_rate)\n",
    "\n",
    "train_step_counter = tf.Variable(0)\n",
    "\n",
    "agent = dqn_agent.DqnAgent(\n",
    "    env.time_step_spec(),\n",
    "    env.action_spec(),\n",
    "    q_network=q_net,\n",
    "    optimizer=optimizer,\n",
    "    epsilon_greedy = epsilon,\n",
    "    gamma = 0.999,\n",
    "    td_errors_loss_fn = common.element_wise_squared_loss,\n",
    "    train_step_counter=train_step_counter)\n",
    "\n",
    "agent.initialize()"
   ]
  },
  {
   "cell_type": "code",
   "execution_count": 8,
   "id": "05335bee",
   "metadata": {},
   "outputs": [],
   "source": [
    "eval_policy = agent.policy\n",
    "collect_policy = agent.collect_policy"
   ]
  },
  {
   "cell_type": "code",
   "execution_count": 9,
   "id": "23dd26bc",
   "metadata": {},
   "outputs": [],
   "source": [
    "def compute_avg_return(environment, policy, num_episodes=10):\n",
    "    total_return = 0\n",
    "    cache = []\n",
    "    for episode in range(num_episodes):\n",
    "        time_step = environment._reset()\n",
    "        episode_return = 0\n",
    "        while not time_step.is_last():\n",
    "            action_step = policy.action(time_step)\n",
    "            time_step = environment._step(action_step.action)\n",
    "            episode_return += time_step.reward\n",
    "        else:\n",
    "            #print('ep={0}, return={1}'.format(episode, episode_return.numpy()[0]))\n",
    "            total_return += episode_return\n",
    "            cache.append(episode_return.numpy()[0])\n",
    "    avg_return = total_return/num_episodes\n",
    "    return avg_return.numpy()[0], cache"
   ]
  },
  {
   "cell_type": "code",
   "execution_count": 10,
   "id": "c95d369d",
   "metadata": {},
   "outputs": [],
   "source": [
    "replay_buffer = tf_uniform_replay_buffer.TFUniformReplayBuffer(\n",
    "    data_spec=agent.collect_data_spec,\n",
    "    batch_size=env.batch_size,\n",
    "    max_length=replay_buffer_max_length)"
   ]
  },
  {
   "cell_type": "code",
   "execution_count": 11,
   "id": "c4ab9825",
   "metadata": {},
   "outputs": [],
   "source": [
    "def collect_step(environment, policy, buffer):\n",
    "    time_step = environment.current_time_step()\n",
    "    action_step = policy.action(time_step)\n",
    "    next_time_step = environment.step(action_step.action)\n",
    "    traj = trajectory.from_transition(time_step, action_step, next_time_step)\n",
    "    \n",
    "    buffer.add_batch(traj)"
   ]
  },
  {
   "cell_type": "code",
   "execution_count": 12,
   "id": "b0b39f0a",
   "metadata": {},
   "outputs": [],
   "source": [
    "def collect_data(environment, policy, buffer, steps):\n",
    "    for _ in range(steps):\n",
    "        collect_step(environment, policy, buffer)"
   ]
  },
  {
   "cell_type": "code",
   "execution_count": 13,
   "id": "3fa8ac0f",
   "metadata": {
    "scrolled": false
   },
   "outputs": [],
   "source": [
    "random_policy = random_tf_policy.RandomTFPolicy(env.time_step_spec(), env.action_spec())\n",
    "collect_data(env, random_policy, replay_buffer, initial_collection_steps)"
   ]
  },
  {
   "cell_type": "code",
   "execution_count": 14,
   "id": "3a8010f4",
   "metadata": {
    "scrolled": false
   },
   "outputs": [
    {
     "name": "stdout",
     "output_type": "stream",
     "text": [
      "WARNING:tensorflow:AutoGraph could not transform <bound method ReplayBuffer.get_next of <tf_agents.replay_buffers.tf_uniform_replay_buffer.TFUniformReplayBuffer object at 0x7f67320fd370>> and will run it as-is.\n",
      "Please report this to the TensorFlow team. When filing the bug, set the verbosity to 10 (on Linux, `export AUTOGRAPH_VERBOSITY=10`) and attach the full output.\n",
      "Cause: module 'gast' has no attribute 'Index'\n",
      "To silence this warning, decorate the function with @tf.autograph.experimental.do_not_convert\n",
      "WARNING: AutoGraph could not transform <bound method ReplayBuffer.get_next of <tf_agents.replay_buffers.tf_uniform_replay_buffer.TFUniformReplayBuffer object at 0x7f67320fd370>> and will run it as-is.\n",
      "Please report this to the TensorFlow team. When filing the bug, set the verbosity to 10 (on Linux, `export AUTOGRAPH_VERBOSITY=10`) and attach the full output.\n",
      "Cause: module 'gast' has no attribute 'Index'\n",
      "To silence this warning, decorate the function with @tf.autograph.experimental.do_not_convert\n",
      "WARNING:tensorflow:From /home/thinh/anaconda3/envs/EchoGymRL/lib/python3.8/site-packages/tf_agents/replay_buffers/tf_uniform_replay_buffer.py:338: ReplayBuffer.get_next (from tf_agents.replay_buffers.replay_buffer) is deprecated and will be removed in a future version.\n",
      "Instructions for updating:\n",
      "Use `as_dataset(..., single_deterministic_pass=False) instead.\n"
     ]
    }
   ],
   "source": [
    "dataset = replay_buffer.as_dataset(\n",
    "    num_parallel_calls=8,\n",
    "    sample_batch_size=batch_size,\n",
    "    num_steps=2,\n",
    "    single_deterministic_pass=False).prefetch(8)\n",
    "iterator = iter(dataset)"
   ]
  },
  {
   "cell_type": "code",
   "execution_count": 15,
   "id": "b573359b",
   "metadata": {},
   "outputs": [
    {
     "data": {
      "text/plain": [
       "'2.4.1'"
      ]
     },
     "execution_count": 15,
     "metadata": {},
     "output_type": "execute_result"
    }
   ],
   "source": [
    "tf.__version__"
   ]
  },
  {
   "cell_type": "code",
   "execution_count": 16,
   "id": "50d0c901",
   "metadata": {
    "scrolled": false
   },
   "outputs": [
    {
     "name": "stdout",
     "output_type": "stream",
     "text": [
      "checkpoint 1\n",
      "checkpoint 2\n",
      "WARNING:tensorflow:From /home/thinh/anaconda3/envs/EchoGymRL/lib/python3.8/site-packages/tensorflow/python/util/dispatch.py:201: calling foldr_v2 (from tensorflow.python.ops.functional_ops) with back_prop=False is deprecated and will be removed in a future version.\n",
      "Instructions for updating:\n",
      "back_prop=False is deprecated. Consider using tf.stop_gradient instead.\n",
      "Instead of:\n",
      "results = tf.foldr(fn, elems, back_prop=False)\n",
      "Use:\n",
      "results = tf.nest.map_structure(tf.stop_gradient, tf.foldr(fn, elems))\n",
      "step = 5000: loss = 0.05149373412132263\n",
      "step = 10000: loss = 0.01784151792526245\n",
      "step= 10000: Avg_Return = 1.399999976158142 {2.0}-{2.0}-{2.0}-{2.0}-{2.0}-{0.0}-{2.0}-{0.0}-{2.0}-{0.0}-.\n",
      "step = 15000: loss = 0.029268629848957062\n",
      "step = 20000: loss = 0.036752715706825256\n",
      "step= 20000: Avg_Return = 1.0 {0.0}-{2.0}-{0.0}-{2.0}-{-2.0}-{2.0}-{2.0}-{2.0}-{0.0}-{2.0}-.\n",
      "step = 25000: loss = 0.022410109639167786\n",
      "step = 30000: loss = 0.034735605120658875\n",
      "step= 30000: Avg_Return = 1.7999999523162842 {0.0}-{2.0}-{2.0}-{2.0}-{2.0}-{2.0}-{2.0}-{2.0}-{2.0}-{2.0}-.\n",
      "step = 35000: loss = 0.03699107468128204\n",
      "step = 40000: loss = 0.03152013570070267\n",
      "step= 40000: Avg_Return = 1.600000023841858 {2.0}-{2.0}-{2.0}-{2.0}-{2.0}-{0.0}-{2.0}-{2.0}-{2.0}-{0.0}-.\n",
      "step = 45000: loss = 0.02273007296025753\n",
      "step = 50000: loss = 0.023961283266544342\n",
      "step= 50000: Avg_Return = 2.0 {2.0}-{2.0}-{2.0}-{2.0}-{2.0}-{2.0}-{2.0}-{2.0}-{2.0}-{2.0}-.\n",
      "step = 55000: loss = 0.022750843316316605\n",
      "step = 60000: loss = 0.027834977954626083\n",
      "step= 60000: Avg_Return = 2.0 {2.0}-{2.0}-{2.0}-{2.0}-{2.0}-{2.0}-{2.0}-{2.0}-{2.0}-{2.0}-.\n",
      "step = 65000: loss = 0.020985819399356842\n",
      "step = 70000: loss = 0.029086800292134285\n",
      "step= 70000: Avg_Return = 2.0 {2.0}-{2.0}-{2.0}-{2.0}-{2.0}-{2.0}-{2.0}-{2.0}-{2.0}-{2.0}-.\n",
      "step = 75000: loss = 0.021663501858711243\n",
      "step = 80000: loss = 0.020484566688537598\n",
      "step= 80000: Avg_Return = 2.0 {2.0}-{2.0}-{2.0}-{2.0}-{2.0}-{2.0}-{2.0}-{2.0}-{2.0}-{2.0}-.\n",
      "step = 85000: loss = 0.017060816287994385\n",
      "step = 90000: loss = 0.012373330071568489\n",
      "step= 90000: Avg_Return = 2.0 {2.0}-{2.0}-{2.0}-{2.0}-{2.0}-{2.0}-{2.0}-{2.0}-{2.0}-{2.0}-.\n",
      "step = 95000: loss = 0.023019013926386833\n",
      "step = 100000: loss = 0.03371325880289078\n",
      "step= 100000: Avg_Return = 2.0 {2.0}-{2.0}-{2.0}-{2.0}-{2.0}-{2.0}-{2.0}-{2.0}-{2.0}-{2.0}-.\n",
      "step = 105000: loss = 0.024040598422288895\n",
      "step = 110000: loss = 0.029242781922221184\n",
      "step= 110000: Avg_Return = 2.0 {2.0}-{2.0}-{2.0}-{2.0}-{2.0}-{2.0}-{2.0}-{2.0}-{2.0}-{2.0}-.\n",
      "step = 115000: loss = 0.01704835332930088\n",
      "step = 120000: loss = 0.020154884085059166\n",
      "step= 120000: Avg_Return = 2.0 {2.0}-{2.0}-{2.0}-{2.0}-{2.0}-{2.0}-{2.0}-{2.0}-{2.0}-{2.0}-.\n",
      "step = 125000: loss = 0.024382315576076508\n",
      "step = 130000: loss = 0.02305833250284195\n",
      "step= 130000: Avg_Return = 2.0 {2.0}-{2.0}-{2.0}-{2.0}-{2.0}-{2.0}-{2.0}-{2.0}-{2.0}-{2.0}-.\n",
      "step = 135000: loss = 0.014068396762013435\n",
      "step = 140000: loss = 0.02682291716337204\n",
      "step= 140000: Avg_Return = 2.0 {2.0}-{2.0}-{2.0}-{2.0}-{2.0}-{2.0}-{2.0}-{2.0}-{2.0}-{2.0}-.\n",
      "step = 145000: loss = 0.01727357506752014\n",
      "step = 150000: loss = 0.010493687354028225\n",
      "step= 150000: Avg_Return = 1.7999999523162842 {2.0}-{0.0}-{2.0}-{2.0}-{2.0}-{2.0}-{2.0}-{2.0}-{2.0}-{2.0}-.\n",
      "step = 155000: loss = 0.017619876191020012\n",
      "step = 160000: loss = 0.01775970868766308\n",
      "step= 160000: Avg_Return = 1.7999999523162842 {2.0}-{2.0}-{2.0}-{2.0}-{2.0}-{2.0}-{2.0}-{2.0}-{0.0}-{2.0}-.\n",
      "step = 165000: loss = 0.013605846092104912\n",
      "step = 170000: loss = 0.02882501296699047\n",
      "step= 170000: Avg_Return = 2.0 {2.0}-{2.0}-{2.0}-{2.0}-{2.0}-{2.0}-{2.0}-{2.0}-{2.0}-{2.0}-.\n",
      "step = 175000: loss = 0.02558181807398796\n",
      "step = 180000: loss = 0.016374075785279274\n",
      "step= 180000: Avg_Return = 2.0 {2.0}-{2.0}-{2.0}-{2.0}-{2.0}-{2.0}-{2.0}-{2.0}-{2.0}-{2.0}-.\n",
      "step = 185000: loss = 0.015683313831686974\n",
      "step = 190000: loss = 0.01698474772274494\n",
      "step= 190000: Avg_Return = 2.0 {2.0}-{2.0}-{2.0}-{2.0}-{2.0}-{2.0}-{2.0}-{2.0}-{2.0}-{2.0}-.\n",
      "step = 195000: loss = 0.018045946955680847\n",
      "step = 200000: loss = 0.021918682381510735\n",
      "step= 200000: Avg_Return = 2.0 {2.0}-{2.0}-{2.0}-{2.0}-{2.0}-{2.0}-{2.0}-{2.0}-{2.0}-{2.0}-.\n",
      "step = 205000: loss = 0.022814884781837463\n",
      "step = 210000: loss = 0.017668116837739944\n",
      "step= 210000: Avg_Return = 2.0 {2.0}-{2.0}-{2.0}-{2.0}-{2.0}-{2.0}-{2.0}-{2.0}-{2.0}-{2.0}-.\n",
      "step = 215000: loss = 0.011937588453292847\n",
      "step = 220000: loss = 0.018064383417367935\n",
      "step= 220000: Avg_Return = 1.7999999523162842 {0.0}-{2.0}-{2.0}-{2.0}-{2.0}-{2.0}-{2.0}-{2.0}-{2.0}-{2.0}-.\n",
      "step = 225000: loss = 0.02261826954782009\n",
      "step = 230000: loss = 0.012261814437806606\n",
      "step= 230000: Avg_Return = 2.0 {2.0}-{2.0}-{2.0}-{2.0}-{2.0}-{2.0}-{2.0}-{2.0}-{2.0}-{2.0}-.\n",
      "step = 235000: loss = 0.013092302717268467\n",
      "step = 240000: loss = 0.020962517708539963\n",
      "step= 240000: Avg_Return = 1.7999999523162842 {2.0}-{2.0}-{2.0}-{0.0}-{2.0}-{2.0}-{2.0}-{2.0}-{2.0}-{2.0}-.\n",
      "step = 245000: loss = 0.022695982828736305\n",
      "step = 250000: loss = 0.02759047970175743\n",
      "step= 250000: Avg_Return = 2.0 {2.0}-{2.0}-{2.0}-{2.0}-{2.0}-{2.0}-{2.0}-{2.0}-{2.0}-{2.0}-.\n",
      "step = 255000: loss = 0.01417309045791626\n",
      "step = 260000: loss = 0.023390697315335274\n",
      "step= 260000: Avg_Return = 2.0 {2.0}-{2.0}-{2.0}-{2.0}-{2.0}-{2.0}-{2.0}-{2.0}-{2.0}-{2.0}-.\n",
      "step = 265000: loss = 0.019922204315662384\n",
      "step = 270000: loss = 0.010690263472497463\n",
      "step= 270000: Avg_Return = 1.600000023841858 {2.0}-{0.0}-{2.0}-{2.0}-{2.0}-{2.0}-{2.0}-{2.0}-{2.0}-{0.0}-.\n",
      "step = 275000: loss = 0.01238760445266962\n",
      "step = 280000: loss = 0.026063425466418266\n",
      "step= 280000: Avg_Return = 2.0 {2.0}-{2.0}-{2.0}-{2.0}-{2.0}-{2.0}-{2.0}-{2.0}-{2.0}-{2.0}-.\n",
      "step = 285000: loss = 0.010221973061561584\n",
      "step = 290000: loss = 0.01353036891669035\n",
      "step= 290000: Avg_Return = 2.0 {2.0}-{2.0}-{2.0}-{2.0}-{2.0}-{2.0}-{2.0}-{2.0}-{2.0}-{2.0}-.\n",
      "step = 295000: loss = 0.016949770972132683\n",
      "step = 300000: loss = 0.014184906147420406\n",
      "step= 300000: Avg_Return = 2.0 {2.0}-{2.0}-{2.0}-{2.0}-{2.0}-{2.0}-{2.0}-{2.0}-{2.0}-{2.0}-.\n",
      "step = 305000: loss = 0.01429583877325058\n",
      "step = 310000: loss = 0.017600923776626587\n",
      "step= 310000: Avg_Return = 5.0 {4.0}-{12.0}-{6.0}-{2.0}-{2.0}-{0.0}-{8.0}-{10.0}-{4.0}-{2.0}-.\n",
      "step = 315000: loss = 0.021370556205511093\n",
      "step = 320000: loss = 0.025308651849627495\n",
      "step= 320000: Avg_Return = 5.400000095367432 {6.0}-{2.0}-{0.0}-{10.0}-{6.0}-{12.0}-{2.0}-{12.0}-{2.0}-{2.0}-.\n",
      "step = 325000: loss = 0.033521369099617004\n",
      "step = 330000: loss = 0.021611705422401428\n",
      "step= 330000: Avg_Return = 8.199999809265137 {12.0}-{12.0}-{8.0}-{2.0}-{12.0}-{12.0}-{12.0}-{2.0}-{0.0}-{10.0}-.\n",
      "step = 335000: loss = 0.015188954770565033\n",
      "step = 340000: loss = 0.03428323194384575\n",
      "step= 340000: Avg_Return = 9.399999618530273 {12.0}-{12.0}-{12.0}-{12.0}-{4.0}-{12.0}-{2.0}-{4.0}-{12.0}-{12.0}-.\n",
      "step = 345000: loss = 0.01446915976703167\n",
      "step = 350000: loss = 0.011778736487030983\n",
      "step= 350000: Avg_Return = 10.0 {12.0}-{2.0}-{12.0}-{12.0}-{12.0}-{12.0}-{12.0}-{12.0}-{2.0}-{12.0}-.\n",
      "step = 355000: loss = 0.029023172333836555\n",
      "step = 360000: loss = 0.01592390425503254\n",
      "step= 360000: Avg_Return = 10.0 {8.0}-{12.0}-{12.0}-{12.0}-{0.0}-{12.0}-{12.0}-{12.0}-{8.0}-{12.0}-.\n",
      "step = 365000: loss = 0.02274373173713684\n",
      "step = 370000: loss = 0.021202299743890762\n",
      "step= 370000: Avg_Return = 5.199999809265137 {12.0}-{4.0}-{4.0}-{4.0}-{0.0}-{4.0}-{8.0}-{0.0}-{12.0}-{4.0}-.\n",
      "step = 375000: loss = 0.01238059438765049\n",
      "step = 380000: loss = 0.037573132663965225\n",
      "step= 380000: Avg_Return = 5.0 {10.0}-{4.0}-{4.0}-{6.0}-{2.0}-{6.0}-{6.0}-{2.0}-{6.0}-{4.0}-.\n",
      "step = 385000: loss = 0.02423112839460373\n",
      "step = 390000: loss = 0.026856712996959686\n",
      "step= 390000: Avg_Return = 9.399999618530273 {2.0}-{12.0}-{6.0}-{12.0}-{12.0}-{8.0}-{12.0}-{6.0}-{12.0}-{12.0}-.\n",
      "step = 395000: loss = 0.021580209955573082\n",
      "step = 400000: loss = 0.01518690399825573\n",
      "step= 400000: Avg_Return = 6.0 {4.0}-{8.0}-{2.0}-{2.0}-{12.0}-{12.0}-{4.0}-{4.0}-{10.0}-{2.0}-.\n",
      "step = 405000: loss = 0.010858245193958282\n",
      "step = 410000: loss = 0.027966894209384918\n",
      "step= 410000: Avg_Return = 9.199999809265137 {12.0}-{12.0}-{12.0}-{12.0}-{6.0}-{2.0}-{12.0}-{4.0}-{8.0}-{12.0}-.\n",
      "step = 415000: loss = 0.022645942866802216\n",
      "step = 420000: loss = 0.030402017757296562\n",
      "step= 420000: Avg_Return = 9.199999809265137 {2.0}-{12.0}-{12.0}-{2.0}-{10.0}-{6.0}-{12.0}-{12.0}-{12.0}-{12.0}-.\n"
     ]
    },
    {
     "name": "stdout",
     "output_type": "stream",
     "text": [
      "step = 425000: loss = 0.016141816973686218\n",
      "step = 430000: loss = 0.016336260363459587\n",
      "step= 430000: Avg_Return = 8.0 {10.0}-{4.0}-{12.0}-{4.0}-{12.0}-{2.0}-{12.0}-{4.0}-{12.0}-{8.0}-.\n",
      "step = 435000: loss = 0.01827377639710903\n",
      "step = 440000: loss = 0.03498676046729088\n",
      "step= 440000: Avg_Return = 4.400000095367432 {12.0}-{2.0}-{4.0}-{2.0}-{2.0}-{4.0}-{12.0}-{2.0}-{2.0}-{2.0}-.\n",
      "step = 445000: loss = 0.028972674161195755\n",
      "step = 450000: loss = 0.03888670355081558\n",
      "step= 450000: Avg_Return = 10.0 {10.0}-{12.0}-{12.0}-{12.0}-{12.0}-{12.0}-{10.0}-{2.0}-{12.0}-{6.0}-.\n",
      "step = 455000: loss = 0.017368387430906296\n",
      "step = 460000: loss = 0.009633852168917656\n",
      "step= 460000: Avg_Return = 7.199999809265137 {2.0}-{6.0}-{6.0}-{8.0}-{8.0}-{4.0}-{12.0}-{12.0}-{8.0}-{6.0}-.\n",
      "step = 465000: loss = 0.017866192385554314\n",
      "step = 470000: loss = 0.014184708707034588\n",
      "step= 470000: Avg_Return = 7.599999904632568 {8.0}-{0.0}-{12.0}-{4.0}-{8.0}-{12.0}-{12.0}-{12.0}-{6.0}-{2.0}-.\n",
      "step = 475000: loss = 0.02216472290456295\n",
      "step = 480000: loss = 0.020943451672792435\n",
      "step= 480000: Avg_Return = 4.599999904632568 {6.0}-{4.0}-{6.0}-{8.0}-{6.0}-{6.0}-{0.0}-{8.0}-{2.0}-{0.0}-.\n",
      "step = 485000: loss = 0.03522578999400139\n",
      "step = 490000: loss = 0.0424657016992569\n",
      "step= 490000: Avg_Return = 8.199999809265137 {12.0}-{0.0}-{6.0}-{10.0}-{2.0}-{12.0}-{12.0}-{12.0}-{8.0}-{8.0}-.\n",
      "step = 495000: loss = 0.02051962912082672\n",
      "step = 500000: loss = 0.015154145658016205\n",
      "step= 500000: Avg_Return = 5.599999904632568 {10.0}-{8.0}-{2.0}-{6.0}-{2.0}-{6.0}-{4.0}-{12.0}-{2.0}-{4.0}-.\n",
      "step = 505000: loss = 0.02105625346302986\n",
      "step = 510000: loss = 0.028248030692338943\n",
      "step= 510000: Avg_Return = 4.400000095367432 {12.0}-{6.0}-{4.0}-{2.0}-{2.0}-{0.0}-{4.0}-{6.0}-{8.0}-{0.0}-.\n",
      "step = 515000: loss = 0.022762317210435867\n",
      "step = 520000: loss = 0.028966866433620453\n",
      "step= 520000: Avg_Return = 5.0 {12.0}-{2.0}-{2.0}-{6.0}-{2.0}-{6.0}-{2.0}-{12.0}-{2.0}-{4.0}-.\n",
      "step = 525000: loss = 0.02485002391040325\n",
      "step = 530000: loss = 0.006320328451693058\n",
      "step= 530000: Avg_Return = 7.400000095367432 {8.0}-{12.0}-{2.0}-{6.0}-{2.0}-{8.0}-{12.0}-{12.0}-{12.0}-{0.0}-.\n",
      "step = 535000: loss = 0.03338029608130455\n",
      "step = 540000: loss = 0.01518950890749693\n",
      "step= 540000: Avg_Return = 9.600000381469727 {12.0}-{12.0}-{4.0}-{12.0}-{6.0}-{10.0}-{12.0}-{4.0}-{12.0}-{12.0}-.\n",
      "step = 545000: loss = 0.019435157999396324\n",
      "step = 550000: loss = 0.014710992574691772\n",
      "step= 550000: Avg_Return = 6.199999809265137 {2.0}-{10.0}-{2.0}-{12.0}-{6.0}-{2.0}-{8.0}-{2.0}-{6.0}-{12.0}-.\n",
      "step = 555000: loss = 0.03253047540783882\n",
      "step = 560000: loss = 0.005399077665060759\n",
      "step= 560000: Avg_Return = 3.799999952316284 {6.0}-{2.0}-{8.0}-{6.0}-{0.0}-{4.0}-{2.0}-{6.0}-{2.0}-{2.0}-.\n",
      "step = 565000: loss = 0.023394158110022545\n",
      "step = 570000: loss = 0.018031693994998932\n",
      "step= 570000: Avg_Return = 6.400000095367432 {0.0}-{6.0}-{0.0}-{12.0}-{4.0}-{0.0}-{12.0}-{12.0}-{8.0}-{10.0}-.\n",
      "step = 575000: loss = 0.01584891974925995\n",
      "step = 580000: loss = 0.01627150923013687\n",
      "step= 580000: Avg_Return = 5.199999809265137 {4.0}-{12.0}-{2.0}-{4.0}-{4.0}-{2.0}-{4.0}-{2.0}-{12.0}-{6.0}-.\n",
      "step = 585000: loss = 0.011819242499768734\n",
      "step = 590000: loss = 0.028956903144717216\n",
      "step= 590000: Avg_Return = 5.400000095367432 {0.0}-{12.0}-{4.0}-{10.0}-{2.0}-{12.0}-{4.0}-{6.0}-{2.0}-{2.0}-.\n",
      "step = 595000: loss = 0.012332665733993053\n",
      "step = 600000: loss = 0.022551294416189194\n",
      "step= 600000: Avg_Return = 7.599999904632568 {12.0}-{4.0}-{8.0}-{6.0}-{4.0}-{12.0}-{12.0}-{12.0}-{4.0}-{2.0}-.\n",
      "step = 605000: loss = 0.04504388943314552\n",
      "step = 610000: loss = 0.030229201540350914\n",
      "step= 610000: Avg_Return = 3.799999952316284 {6.0}-{6.0}-{0.0}-{0.0}-{0.0}-{16.0}-{2.0}-{0.0}-{6.0}-{2.0}-.\n",
      "step = 615000: loss = 0.03442102670669556\n",
      "step = 620000: loss = 0.04514081031084061\n",
      "step= 620000: Avg_Return = 1.7999999523162842 {0.0}-{0.0}-{0.0}-{0.0}-{6.0}-{2.0}-{0.0}-{2.0}-{0.0}-{8.0}-.\n",
      "step = 625000: loss = 0.011936908587813377\n",
      "step = 630000: loss = 0.020981889218091965\n",
      "step= 630000: Avg_Return = 0.4000000059604645 {-2.0}-{4.0}-{-2.0}-{2.0}-{0.0}-{2.0}-{2.0}-{0.0}-{-2.0}-{0.0}-.\n",
      "step = 635000: loss = 0.03386581316590309\n",
      "step = 640000: loss = 0.0071045104414224625\n",
      "step= 640000: Avg_Return = 2.0 {2.0}-{2.0}-{2.0}-{0.0}-{0.0}-{0.0}-{0.0}-{6.0}-{0.0}-{8.0}-.\n",
      "step = 645000: loss = 0.0595589205622673\n",
      "step = 650000: loss = 0.013896959833800793\n",
      "step= 650000: Avg_Return = 0.800000011920929 {0.0}-{2.0}-{0.0}-{0.0}-{0.0}-{0.0}-{0.0}-{0.0}-{0.0}-{6.0}-.\n",
      "step = 655000: loss = 0.007885774597525597\n",
      "step = 660000: loss = 0.03815856948494911\n",
      "step= 660000: Avg_Return = 1.7999999523162842 {10.0}-{-2.0}-{6.0}-{-2.0}-{6.0}-{0.0}-{2.0}-{0.0}-{0.0}-{-2.0}-.\n",
      "step = 665000: loss = 0.05640561878681183\n",
      "step = 670000: loss = 0.020332936197519302\n",
      "step= 670000: Avg_Return = 1.0 {2.0}-{0.0}-{0.0}-{2.0}-{0.0}-{0.0}-{2.0}-{2.0}-{2.0}-{0.0}-.\n",
      "step = 675000: loss = 0.030161213129758835\n",
      "step = 680000: loss = 0.058281637728214264\n",
      "step= 680000: Avg_Return = 2.5999999046325684 {0.0}-{0.0}-{4.0}-{0.0}-{6.0}-{2.0}-{0.0}-{10.0}-{4.0}-{0.0}-.\n",
      "step = 685000: loss = 0.030986614525318146\n",
      "step = 690000: loss = 0.06042833626270294\n",
      "step= 690000: Avg_Return = -1.399999976158142 {-2.0}-{-2.0}-{-2.0}-{0.0}-{-2.0}-{0.0}-{-2.0}-{-2.0}-{0.0}-{-2.0}-.\n",
      "step = 695000: loss = 0.09039214998483658\n",
      "step = 700000: loss = 0.12236660718917847\n",
      "step= 700000: Avg_Return = -0.6000000238418579 {2.0}-{-2.0}-{0.0}-{0.0}-{-2.0}-{2.0}-{-2.0}-{-2.0}-{0.0}-{-2.0}-.\n",
      "step = 705000: loss = 0.05326192453503609\n",
      "step = 710000: loss = 0.0641910508275032\n",
      "step= 710000: Avg_Return = 0.800000011920929 {0.0}-{0.0}-{2.0}-{0.0}-{0.0}-{0.0}-{2.0}-{0.0}-{0.0}-{4.0}-.\n",
      "step = 715000: loss = 0.07772417366504669\n",
      "step = 720000: loss = 0.10789176821708679\n",
      "step= 720000: Avg_Return = 1.0 {0.0}-{4.0}-{0.0}-{6.0}-{0.0}-{0.0}-{0.0}-{0.0}-{0.0}-{0.0}-.\n",
      "step = 725000: loss = 0.024623019620776176\n",
      "step = 730000: loss = 0.011518426239490509\n",
      "step= 730000: Avg_Return = 0.4000000059604645 {0.0}-{0.0}-{0.0}-{0.0}-{2.0}-{2.0}-{0.0}-{2.0}-{0.0}-{-2.0}-.\n",
      "step = 735000: loss = 0.02243649587035179\n",
      "step = 740000: loss = 0.10127551853656769\n",
      "step= 740000: Avg_Return = 0.800000011920929 {0.0}-{2.0}-{2.0}-{2.0}-{0.0}-{2.0}-{0.0}-{0.0}-{0.0}-{0.0}-.\n",
      "step = 745000: loss = 0.09597799926996231\n",
      "step = 750000: loss = 0.02116808108985424\n",
      "step= 750000: Avg_Return = 0.4000000059604645 {0.0}-{2.0}-{0.0}-{0.0}-{2.0}-{0.0}-{0.0}-{0.0}-{0.0}-{0.0}-.\n",
      "step = 755000: loss = 0.15866564214229584\n",
      "step = 760000: loss = 0.15190699696540833\n",
      "step= 760000: Avg_Return = 2.200000047683716 {0.0}-{0.0}-{2.0}-{2.0}-{0.0}-{0.0}-{2.0}-{2.0}-{6.0}-{8.0}-.\n",
      "step = 765000: loss = 0.177001953125\n",
      "step = 770000: loss = 0.11006840318441391\n",
      "step= 770000: Avg_Return = 1.2000000476837158 {2.0}-{6.0}-{0.0}-{0.0}-{0.0}-{0.0}-{2.0}-{2.0}-{0.0}-{0.0}-.\n",
      "step = 775000: loss = 0.42281490564346313\n",
      "step = 780000: loss = 0.09942807257175446\n",
      "step= 780000: Avg_Return = 1.600000023841858 {2.0}-{0.0}-{0.0}-{2.0}-{0.0}-{-2.0}-{4.0}-{2.0}-{8.0}-{0.0}-.\n",
      "step = 785000: loss = 0.06949538737535477\n",
      "step = 790000: loss = 0.06630603969097137\n",
      "step= 790000: Avg_Return = 3.4000000953674316 {0.0}-{8.0}-{4.0}-{2.0}-{2.0}-{0.0}-{2.0}-{0.0}-{0.0}-{16.0}-.\n",
      "step = 795000: loss = 1.101865530014038\n",
      "step = 800000: loss = 0.3041863441467285\n",
      "step= 800000: Avg_Return = 6.599999904632568 {22.0}-{18.0}-{4.0}-{8.0}-{4.0}-{0.0}-{2.0}-{2.0}-{2.0}-{4.0}-.\n",
      "step = 805000: loss = 0.07977334409952164\n",
      "step = 810000: loss = 0.08953453600406647\n",
      "step= 810000: Avg_Return = 3.5999999046325684 {4.0}-{2.0}-{2.0}-{8.0}-{2.0}-{4.0}-{6.0}-{2.0}-{4.0}-{2.0}-.\n",
      "step = 815000: loss = 1.0136562585830688\n",
      "step = 820000: loss = 0.10578340291976929\n",
      "step= 820000: Avg_Return = 5.599999904632568 {2.0}-{2.0}-{4.0}-{4.0}-{14.0}-{4.0}-{4.0}-{0.0}-{0.0}-{22.0}-.\n",
      "step = 825000: loss = 2.3154876232147217\n",
      "step = 830000: loss = 1.1512259244918823\n",
      "step= 830000: Avg_Return = 7.400000095367432 {22.0}-{0.0}-{0.0}-{22.0}-{0.0}-{2.0}-{22.0}-{0.0}-{6.0}-{0.0}-.\n",
      "step = 835000: loss = 0.12864269316196442\n",
      "step = 840000: loss = 0.09033114463090897\n",
      "step= 840000: Avg_Return = 10.800000190734863 {2.0}-{4.0}-{2.0}-{6.0}-{22.0}-{22.0}-{22.0}-{6.0}-{16.0}-{6.0}-.\n",
      "step = 845000: loss = 0.6601864099502563\n",
      "step = 850000: loss = 0.8814554810523987\n",
      "step= 850000: Avg_Return = 14.0 {22.0}-{22.0}-{12.0}-{2.0}-{4.0}-{14.0}-{22.0}-{22.0}-{16.0}-{4.0}-.\n"
     ]
    },
    {
     "name": "stdout",
     "output_type": "stream",
     "text": [
      "step = 855000: loss = 0.15884718298912048\n",
      "step = 860000: loss = 2.4484236240386963\n",
      "step= 860000: Avg_Return = 11.600000381469727 {4.0}-{10.0}-{8.0}-{8.0}-{22.0}-{8.0}-{12.0}-{4.0}-{18.0}-{22.0}-.\n",
      "step = 865000: loss = 0.14272025227546692\n",
      "step = 870000: loss = 0.15922249853610992\n",
      "step= 870000: Avg_Return = 4.800000190734863 {10.0}-{2.0}-{2.0}-{4.0}-{0.0}-{-2.0}-{6.0}-{12.0}-{0.0}-{14.0}-.\n",
      "step = 875000: loss = 2.3219997882843018\n",
      "step = 880000: loss = 0.10234804451465607\n",
      "step= 880000: Avg_Return = 12.800000190734863 {10.0}-{10.0}-{18.0}-{16.0}-{0.0}-{22.0}-{6.0}-{10.0}-{14.0}-{22.0}-.\n",
      "step = 885000: loss = 3.6920251846313477\n",
      "step = 890000: loss = 0.8370901346206665\n",
      "step= 890000: Avg_Return = 12.0 {22.0}-{22.0}-{0.0}-{8.0}-{22.0}-{6.0}-{8.0}-{4.0}-{14.0}-{14.0}-.\n",
      "step = 895000: loss = 0.11942921578884125\n",
      "step = 900000: loss = 0.11147744953632355\n",
      "step= 900000: Avg_Return = 6.599999904632568 {6.0}-{0.0}-{12.0}-{6.0}-{22.0}-{0.0}-{10.0}-{4.0}-{-2.0}-{8.0}-.\n",
      "step = 905000: loss = 0.12206651270389557\n",
      "step = 910000: loss = 0.20187976956367493\n",
      "step= 910000: Avg_Return = 14.399999618530273 {8.0}-{22.0}-{10.0}-{4.0}-{22.0}-{6.0}-{22.0}-{10.0}-{22.0}-{18.0}-.\n",
      "step = 915000: loss = 0.08257565647363663\n",
      "step = 920000: loss = 0.10428052395582199\n",
      "step= 920000: Avg_Return = 10.800000190734863 {0.0}-{22.0}-{22.0}-{22.0}-{8.0}-{6.0}-{0.0}-{22.0}-{2.0}-{4.0}-.\n",
      "step = 925000: loss = 0.17283150553703308\n",
      "step = 930000: loss = 3.0094594955444336\n",
      "step= 930000: Avg_Return = 15.800000190734863 {6.0}-{22.0}-{16.0}-{22.0}-{8.0}-{22.0}-{2.0}-{22.0}-{22.0}-{16.0}-.\n",
      "19.6\n",
      "[22.0, 22.0, 22.0, 22.0, 22.0, 22.0, 12.0, 22.0, 22.0, 8.0]\n"
     ]
    }
   ],
   "source": [
    "agent.train = common.function(agent.train)\n",
    "agent.train_step_counter.assign(0)\n",
    "print('checkpoint 1')\n",
    "avg_return, _ = compute_avg_return(eval_env, agent.policy, num_eval_episodes)\n",
    "returns = [avg_return]\n",
    "losses = []\n",
    "print('checkpoint 2')\n",
    "\n",
    "for i in range(num_iterations):\n",
    "    if i== 300_000:\n",
    "        py_env.update_setting(preset=11, time_limit=1000, max_level=5)\n",
    "        eval_py_env.update_setting(preset=11, time_limit=1000, max_level=5)\n",
    "    if i== 600_000:\n",
    "        py_env.update_setting(preset=1, time_limit=1000, max_level=10)\n",
    "        eval_py_env.update_setting(preset=1, time_limit=1000, max_level=10)\n",
    "\n",
    "    collect_data(env, agent.collect_policy, replay_buffer, collect_steps_per_iteration)\n",
    "\n",
    "    experience, unused_info = next(iterator)\n",
    "    train_loss = agent.train(experience).loss\n",
    "    step = agent.train_step_counter.numpy()\n",
    "\n",
    "    if step % log_interval == 0:\n",
    "        print('step = {0}: loss = {1}'.format(step, train_loss))\n",
    "        losses.append(train_loss)\n",
    "    if step % eval_interval == 0:\n",
    "        avg_return, cache = compute_avg_return(eval_env, agent.policy, num_eval_episodes)\n",
    "        print('step= {0}: Avg_Return = {1}'.format(step, avg_return), end=' ')\n",
    "        for i in cache:\n",
    "            print('{'+str(i)+'}-',end='')\n",
    "        print('.')\n",
    "        returns.append(avg_return)\n",
    "\n",
    "    if avg_return > 15 and (step % 1000 == 0):\n",
    "        temp, temp_cache = compute_avg_return(eval_env, agent.policy, 10)\n",
    "        print(temp)\n",
    "        print(temp_cache)\n",
    "        if temp >15:\n",
    "            break\n",
    "\n",
    "\n",
    "#print('Final Evaluation over 100 episodes: ')\n",
    "#avg_100_return = compute_avg_return(eval_env, agent.policy, num_eval_episodes*10)\n",
    "#print('Average Return over 100 eps = {0}'.format(avg_100_return))"
   ]
  },
  {
   "cell_type": "code",
   "execution_count": 17,
   "id": "45de8616",
   "metadata": {
    "scrolled": true
   },
   "outputs": [
    {
     "data": {
      "text/plain": [
       "[<matplotlib.lines.Line2D at 0x7f632bbe0df0>]"
      ]
     },
     "execution_count": 17,
     "metadata": {},
     "output_type": "execute_result"
    },
    {
     "data": {
      "image/png": "[encoded data removed]",
      "text/plain": [
       "<Figure size 432x288 with 1 Axes>"
      ]
     },
     "metadata": {
      "needs_background": "light"
     },
     "output_type": "display_data"
    }
   ],
   "source": [
    "%matplotlib inline\n",
    "from matplotlib import pyplot as plt\n",
    "plt.plot(returns)"
   ]
  },
  {
   "cell_type": "code",
   "execution_count": 18,
   "id": "ef04d2b1",
   "metadata": {},
   "outputs": [
    {
     "data": {
      "text/plain": [
       "15.8"
      ]
     },
     "execution_count": 18,
     "metadata": {},
     "output_type": "execute_result"
    }
   ],
   "source": [
    "np.max(returns)"
   ]
  },
  {
   "cell_type": "code",
   "execution_count": 19,
   "id": "ae880e77",
   "metadata": {},
   "outputs": [
    {
     "data": {
      "text/plain": [
       "[<matplotlib.lines.Line2D at 0x7f632b70a580>]"
      ]
     },
     "execution_count": 19,
     "metadata": {},
     "output_type": "execute_result"
    },
    {
     "data": {
      "image/png": "[encoded data removed]",
      "text/plain": [
       "<Figure size 432x288 with 1 Axes>"
      ]
     },
     "metadata": {
      "needs_background": "light"
     },
     "output_type": "display_data"
    }
   ],
   "source": [
    "plt.plot(losses, alpha=0.2)"
   ]
  },
  {
   "cell_type": "code",
   "execution_count": null,
   "id": "ed7b87ea",
   "metadata": {},
   "outputs": [],
   "source": []
  },
  {
   "cell_type": "code",
   "execution_count": null,
   "id": "ce5c75e8",
   "metadata": {},
   "outputs": [],
   "source": [
    "from coordinate_utils import polar_bat_reference\n",
    "def check_target(environment, food_k=1):\n",
    "    food_xyk = environment.obj._coordinates[ environment.obj._coordinates[:,2]==food_k ]\n",
    "    food_polar = polar_bat_reference(food_xyk, environment.bat._tracker).reshape(2,)\n",
    "    distance = food_polar[0]\n",
    "    azimuth = food_polar[1] - environment.bat._tracker[0,2]\n",
    "    azimuth = (azimuth - 360) if (azimuth>180) else (azimuth + 360) if (azimuth<-180) else azimuth\n",
    "    #in_range = (distance<(obj.radius[self.diet] + self.harvest_spec['distance_tol'])) and (distance>obj.radius[self.diet])\n",
    "    #in_view = np.abs(azimuth)<self.harvest_spec['azimuth_tol'\n",
    "    return distance, azimuth"
   ]
  },
  {
   "cell_type": "code",
   "execution_count": null,
   "id": "0059a24c",
   "metadata": {},
   "outputs": [],
   "source": [
    "eval_py_env.update_setting(preset=1, time_limit=1500, max_level=8, visual=True)"
   ]
  },
  {
   "cell_type": "code",
   "execution_count": null,
   "id": "033ce790",
   "metadata": {},
   "outputs": [],
   "source": [
    "eval_py_env.update_setting(visual=True)"
   ]
  },
  {
   "cell_type": "code",
   "execution_count": null,
   "id": "4202a192",
   "metadata": {
    "scrolled": false
   },
   "outputs": [],
   "source": [
    "step = 0\n",
    "reward = tf.convert_to_tensor([0.])\n",
    "time_step = eval_env.reset()\n",
    "action_decode = eval_py_env.act.decode\n",
    "action_code_list = list(eval_py_env.act.decode.values())\n",
    "action_meaning_list = list(eval_py_env.act.decode.keys())\n",
    "#print('Init Bat @:')\n",
    "#print(eval_py_env.bat._tracker)\n",
    "#print('Obj Coordinates:')\n",
    "#print(eval_py_env.obj._coordinates)\n",
    "#print('FORMAT: FIGURE SHOW THE ACTIONS THAT IT TOOK THE NEXT STEP.\\nTHE THEN TEXT SHOW THE SPECIFIC ACTION, BAT POSITION, AND REWARDS')\n",
    "while not time_step.is_last():\n",
    "#for i in range(1):\n",
    "    action_step = agent.policy.action(time_step)\n",
    "    time_step = eval_env._step(action_step.action)\n",
    "    reward += time_step.reward\n",
    "    position = action_code_list.index(action_step.action.numpy()[0])\n",
    "    plt.show()\n",
    "    #print('action = '+ action_meaning_list[position], end='| ')\n",
    "    #print('bat @ (x,y)=({0},{1})'.format(np.round(eval_py_env.bat._tracker[0,0], 2), np.round(eval_py_env.bat._tracker[0,1], 2)), end='| ')\n",
    "    #print('angle={0}'.format(np.round(eval_py_env.bat._tracker[0,2], 2)))\n",
    "    #err_dist, err_azim = check_target(eval_py_env)\n",
    "    #print('distance={0}, azimuth={1}'.format(np.round(err_dist,2), np.round(err_azim,2)))\n",
    "    #print('Step='+str(eval_py_env.act.steps)+' ('+str(len(eval_py_env.act.history)),end=') | ')\n",
    "    #print('episode_reward={0} | step_reward={1}'.format(reward.numpy()[0], time_step.reward.numpy()[0]))\n",
    "#print('Final Reward = '+str(reward.numpy()[0]))"
   ]
  },
  {
   "cell_type": "code",
   "execution_count": null,
   "id": "993e3dda",
   "metadata": {},
   "outputs": [],
   "source": [
    "agent.train_step_counter.numpy()"
   ]
  },
  {
   "cell_type": "code",
   "execution_count": null,
   "id": "6dc16c6e",
   "metadata": {},
   "outputs": [],
   "source": [
    "avg_return"
   ]
  },
  {
   "cell_type": "code",
   "execution_count": null,
   "id": "6652c10d",
   "metadata": {
    "scrolled": false
   },
   "outputs": [],
   "source": [
    "tt = agent.train_step_counter.numpy()\n",
    "for _ in range(2_000_000 - tt):\n",
    "    collect_data(env, agent.collect_policy, replay_buffer, collect_steps_per_iteration)\n",
    "\n",
    "    experience, unused_info = next(iterator)\n",
    "    train_loss = agent.train(experience).loss\n",
    "\n",
    "    step = agent.train_step_counter.numpy()\n",
    "\n",
    "    if step % log_interval == 0:\n",
    "        print('step = {0}: loss = {1}'.format(step, train_loss))\n",
    "    if step % eval_interval == 0:\n",
    "        avg_return, cache = compute_avg_return(eval_env, agent.policy, num_eval_episodes)\n",
    "        print('step= {0}: Avg_Return = {1}'.format(step, avg_return), end=' ')\n",
    "        for i in cache:\n",
    "            print('{'+str(i)+'}-',end='')\n",
    "        print('.')\n",
    "        returns.append(avg_return)\n",
    "        if avg_return >= 16 and (step % 1000 == 0):\n",
    "            temp, temp_cache = compute_avg_return(eval_env, agent.policy, 10)\n",
    "            print(temp)\n",
    "            print(temp_cache)\n",
    "            if temp >=16:\n",
    "                break"
   ]
  },
  {
   "cell_type": "markdown",
   "id": "efd7f962",
   "metadata": {},
   "source": [
    "## EVALUATE SUCCESS RATE"
   ]
  },
  {
   "cell_type": "code",
   "execution_count": null,
   "id": "4824c153",
   "metadata": {},
   "outputs": [],
   "source": [
    "def evaluation_record(environment, py_envi, policy, num_episodes=100):\n",
    "    ending_decode = {'success': 0,\n",
    "                     'hit_pole': 1,\n",
    "                     'hit_plant': 2,\n",
    "                     'timeout': 3,\n",
    "                     'wormhole': 4}\n",
    "    \n",
    "    success_count = 0\n",
    "    # Episode_id | case ID | ending | obj0_x | obj0_y | obj1_x | obj1_y | \n",
    "    episode_details = np.array([]).reshape(0, 7)\n",
    "    # Episode_id | action_index | bat_x | bat_y | bat_a | echo_100\n",
    "    bat_records = np.array([]).reshape(0, 105)\n",
    "    for episode in range(num_episodes):\n",
    "        time_step = environment._reset()\n",
    "        episode_return = 0\n",
    "        case_id = np.where(py_envi.obj._coordinates==1)[0][0]\n",
    "        obj0_x, obj0_y = (py_envi.obj._coordinates[0][0], py_envi.obj._coordinates[0][1])\n",
    "        obj1_x, obj1_y = (py_envi.obj._coordinates[1][0], py_envi.obj._coordinates[1][1])\n",
    "        #obj2_x, obj2_y = (py_envi.obj._coordinates[2][0], py_envi.obj._coordinates[2][1])\n",
    "        \n",
    "        track = np.array([episode, py_envi.act.index, \n",
    "                          py_envi.bat._tracker[0,0], \n",
    "                          py_envi.bat._tracker[0,1],\n",
    "                          py_envi.bat._tracker[0,2]])\n",
    "        record = np.concatenate((track, py_envi.echo._echo)).reshape(1, 105)\n",
    "        bat_records = np.vstack((bat_records, record))\n",
    "        while not time_step.is_last():\n",
    "            action_step = policy.action(time_step)\n",
    "            time_step = environment._step(action_step.action)\n",
    "            track = np.array([episode, py_envi.act.index, \n",
    "                          py_envi.bat._tracker[0,0], \n",
    "                          py_envi.bat._tracker[0,1],\n",
    "                          py_envi.bat._tracker[0,2]])\n",
    "            record = np.concatenate((track, py_envi.echo._echo)).reshape(1, 105)\n",
    "            bat_records = np.vstack((bat_records, record))\n",
    "        else:\n",
    "            success_count += 1 if time_step.reward.numpy()[0]==py_envi.reward_setting['finish'] else 0\n",
    "            track = np.array([episode, py_envi.act.index, \n",
    "                          py_envi.bat._tracker[0,0], \n",
    "                          py_envi.bat._tracker[0,1],\n",
    "                          py_envi.bat._tracker[0,2]])\n",
    "            record = np.concatenate((track, py_envi.echo._echo)).reshape(1, 105)\n",
    "            bat_records = np.vstack((bat_records, record))\n",
    "            \n",
    "            ending = 0 if time_step.reward.numpy()[0]==py_envi.reward_setting['finish'] else py_envi.status.hit if py_envi.status.hit!=0 else 3 if py_envi.status.timeout else 4 if py_envi.status.wormhole else -1\n",
    "        \n",
    "        detail = np.array([episode, case_id, ending, obj0_x, obj0_y, obj1_x, obj1_y]).reshape(1,7)\n",
    "        episode_details = np.vstack((episode_details, detail))\n",
    "        \n",
    "        \n",
    "        \n",
    "    success_rate = success_count/num_episodes\n",
    "    return success_rate, episode_details, bat_records"
   ]
  },
  {
   "cell_type": "code",
   "execution_count": null,
   "id": "9413ef36",
   "metadata": {},
   "outputs": [],
   "source": [
    "eval_py_env._visualize_step = False\n",
    "success, episode_details, records = evaluation_record(eval_env, eval_py_env, agent.policy, 1000)\n",
    "print('Success Rate = {0} %'.format(success*100))"
   ]
  },
  {
   "cell_type": "code",
   "execution_count": 26,
   "id": "da162fb3",
   "metadata": {},
   "outputs": [
    {
     "name": "stderr",
     "output_type": "stream",
     "text": [
      "WARNING:absl:Found untraced functions such as sequential_layer_call_fn, sequential_layer_call_and_return_conditional_losses, sequential_layer_call_fn, sequential_layer_call_and_return_conditional_losses, sequential_layer_call_and_return_conditional_losses while saving (showing 5 of 30). These functions will not be directly callable after loading.\n",
      "WARNING:absl:Found untraced functions such as sequential_layer_call_fn, sequential_layer_call_and_return_conditional_losses, sequential_layer_call_fn, sequential_layer_call_and_return_conditional_losses, sequential_layer_call_and_return_conditional_losses while saving (showing 5 of 30). These functions will not be directly callable after loading.\n"
     ]
    },
    {
     "name": "stdout",
     "output_type": "stream",
     "text": [
      "INFO:tensorflow:Assets written to: /home/thinh/Sync/python-projects/echo_gym/echo_gym/bat_snake_env/agent_checkpoints/hunt_11.18.21/assets\n"
     ]
    },
    {
     "name": "stderr",
     "output_type": "stream",
     "text": [
      "INFO:tensorflow:Assets written to: /home/thinh/Sync/python-projects/echo_gym/echo_gym/bat_snake_env/agent_checkpoints/hunt_11.18.21/assets\n"
     ]
    }
   ],
   "source": [
    "from tf_agents.policies import policy_saver\n",
    "\n",
    "parent_dir = os.getcwd()\n",
    "policy_dir = os.path.join(parent_dir, 'agent_checkpoints/hunt_11.18.21')\n",
    "tf_policy_saver = policy_saver.PolicySaver(agent.policy)\n",
    "tf_policy_saver.save(policy_dir)"
   ]
  },
  {
   "cell_type": "code",
   "execution_count": 24,
   "id": "f489c911",
   "metadata": {},
   "outputs": [],
   "source": [
    "os.mkdir('agent_checkpoints/hunt_11.18.21')\n",
    "np.savez('agent_checkpoints/hunt_11.18.21/train_log.npz',\n",
    "         returns=np.array(returns),\n",
    "         losses = np.array(losses))"
   ]
  },
  {
   "cell_type": "code",
   "execution_count": null,
   "id": "4168eafe",
   "metadata": {},
   "outputs": [],
   "source": []
  }
 ],
 "metadata": {
  "kernelspec": {
   "display_name": "Python 3 (ipykernel)",
   "language": "python",
   "name": "python3"
  },
  "language_info": {
   "codemirror_mode": {
    "name": "ipython",
    "version": 3
   },
   "file_extension": ".py",
   "mimetype": "text/x-python",
   "name": "python",
   "nbconvert_exporter": "python",
   "pygments_lexer": "ipython3",
   "version": "3.9.6"
  }
 },
 "nbformat": 4,
 "nbformat_minor": 5
}
